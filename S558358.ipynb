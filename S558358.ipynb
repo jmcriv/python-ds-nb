{
 "cells": [
  {
   "cell_type": "markdown",
   "metadata": {},
   "source": [
    "# Web Mining and Applied NLP (44-620)\n",
    "\n",
    "## Python Notebooks, Basics, and Data Structures\n",
    "\n",
    "### Student Name: Jim Crivello https://github.com/jmcriv/python-ds-nb\n",
    "\n",
    "Perform the tasks described in the Markdown cells below.  When you have completed the assignment make sure your code cells have all been run (and have output beneath them) and ensure you have committed and pushed ALL of your changes to your assignment repository.\n",
    "\n",
    "Every question that requires you to write code will have a code cell underneath it; you may either write your entire solution in that cell or write it in a python file (`.py`), then import and run the appropriate code to answer the question.\n",
    "\n",
    "Do not use external modules (`math`, etc) for this assignment unless you are explicitly instructed to, though you may use built in python functions (`min`, `max`, etc) as you wish."
   ]
  },
  {
   "cell_type": "markdown",
   "metadata": {},
   "source": [
    "10. Create a new Jupyter Notebook (the name of the notebook should be your S number). Add a Markdown cell that contains your name. Add a Code cell and write Python that uses loops to draw the following pattern:\n",
    "\n",
    "```\n",
    "*      *\n",
    "**    **\n",
    "***  ***\n",
    "********\n",
    "```\n",
    "Make sure to add and submit both the new notebook and the changes to this notebook for this assignment."
   ]
  },
  {
   "cell_type": "code",
   "execution_count": 40,
   "metadata": {},
   "outputs": [
    {
     "name": "stdout",
     "output_type": "stream",
     "text": [
      "*      *\n",
      "**    **\n",
      "***  ***\n",
      "********\n"
     ]
    }
   ],
   "source": [
    "# Question 10\n",
    "# Value a is max width of the diagram\n",
    "\n",
    "a = 8\n",
    "b = (a // a)\n",
    "c = a - 2\n",
    "\n",
    "# Value d represents one pass to print the first line\n",
    "d = 0\n",
    "while d != 1:\n",
    "    print(\"*\" * b, end=\"\")\n",
    "    print(\" \" * c, end=\"\")\n",
    "    print(\"*\" * b)\n",
    "    d = d + 1\n",
    "    \n",
    "while c != 0:\n",
    "    c = c - 2\n",
    "    b = b + 1\n",
    "    print(\"*\" * b, end=\"\")\n",
    "    print(\" \" * c, end=\"\")\n",
    "    print(\"*\" * b)\n",
    "    \n"
   ]
  },
  {
   "cell_type": "code",
   "execution_count": 43,
   "metadata": {},
   "outputs": [
    {
     "name": "stdout",
     "output_type": "stream",
     "text": [
      "*                                          *\n",
      "**                                        **\n",
      "***                                      ***\n",
      "****                                    ****\n",
      "*****                                  *****\n",
      "******                                ******\n",
      "*******                              *******\n",
      "********                            ********\n",
      "*********                          *********\n",
      "**********                        **********\n",
      "***********                      ***********\n",
      "************                    ************\n",
      "*************                  *************\n",
      "**************                **************\n",
      "***************              ***************\n",
      "****************            ****************\n",
      "*****************          *****************\n",
      "******************        ******************\n",
      "*******************      *******************\n",
      "********************    ********************\n",
      "*********************  *********************\n",
      "********************************************\n"
     ]
    }
   ],
   "source": [
    "# Question 10 Practice\n",
    "# Value a is max width of the diagram\n",
    "\n",
    "a = 44\n",
    "b = (a // a)\n",
    "c = a - 2\n",
    "\n",
    "# Value d represents one pass to print the first line\n",
    "d = 0\n",
    "while d != 1:\n",
    "    print(\"*\" * b, end=\"\")\n",
    "    print(\" \" * c, end=\"\")\n",
    "    print(\"*\" * b)\n",
    "    d = d + 1\n",
    "\n",
    "while c != 0:\n",
    "    c = c - 2\n",
    "    b = b + 1\n",
    "    print(\"*\" * b, end=\"\")\n",
    "    print(\" \" * c, end=\"\")\n",
    "    print(\"*\" * b)\n",
    "    "
   ]
  }
 ],
 "metadata": {
  "kernelspec": {
   "display_name": "Python 3 (ipykernel)",
   "language": "python",
   "name": "python3"
  },
  "language_info": {
   "codemirror_mode": {
    "name": "ipython",
    "version": 3
   },
   "file_extension": ".py",
   "mimetype": "text/x-python",
   "name": "python",
   "nbconvert_exporter": "python",
   "pygments_lexer": "ipython3",
   "version": "3.9.16"
  }
 },
 "nbformat": 4,
 "nbformat_minor": 4
}
