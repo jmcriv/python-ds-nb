{
 "cells": [
  {
   "cell_type": "markdown",
   "metadata": {},
   "source": [
    "# Web Mining and Applied NLP (44-620)\n",
    "\n",
    "## Python Notebooks, Basics, and Data Structures\n",
    "\n",
    "### Student Name: Jim Crivello https://github.com/jmcriv/python-ds-nb\n",
    "\n",
    "Perform the tasks described in the Markdown cells below.  When you have completed the assignment make sure your code cells have all been run (and have output beneath them) and ensure you have committed and pushed ALL of your changes to your assignment repository.\n",
    "\n",
    "Every question that requires you to write code will have a code cell underneath it; you may either write your entire solution in that cell or write it in a python file (`.py`), then import and run the appropriate code to answer the question.\n",
    "\n",
    "Do not use external modules (`math`, etc) for this assignment unless you are explicitly instructed to, though you may use built in python functions (`min`, `max`, etc) as you wish."
   ]
  },
  {
   "cell_type": "markdown",
   "metadata": {},
   "source": [
    "1. Modify the Markdown cell above to put your name after \"Student Name:\"; you will be expected to do this in all assignments presented in this format for this class."
   ]
  },
  {
   "cell_type": "markdown",
   "metadata": {},
   "source": [
    "2. Write code that divides any two numbers, stores the result in a variable, and prints the result with an appropriate label."
   ]
  },
  {
   "cell_type": "code",
   "execution_count": 7,
   "metadata": {},
   "outputs": [
    {
     "name": "stdout",
     "output_type": "stream",
     "text": [
      "Result of dividing 10 by 5 = 2.0\n"
     ]
    }
   ],
   "source": [
    "# Question 2\n",
    "\n",
    "x=10\n",
    "y=5\n",
    "result=x/y\n",
    "print(\"Result of dividing 10 by 5 =\",result)\n"
   ]
  },
  {
   "cell_type": "markdown",
   "metadata": {},
   "source": [
    "3. Using loops (and potentially conditionals), write Python code that prints the factorial of each integer from 1 through 10 (which you can store in a variable if you want). The factorial of an integer is the product of all of the integers of 1 through the number. Print the result with an appropriate label."
   ]
  },
  {
   "cell_type": "code",
   "execution_count": 3,
   "metadata": {},
   "outputs": [
    {
     "name": "stdout",
     "output_type": "stream",
     "text": [
      "1\n",
      "2\n",
      "3\n",
      "4\n",
      "5\n",
      "6\n",
      "7\n",
      "8\n",
      "9\n",
      "10\n",
      "Factorial of  1 equals  1\n",
      "Factorial of  2 equals  2\n",
      "Factorial of  3 equals  6\n",
      "Factorial of  4 equals  24\n",
      "Factorial of  5 equals  120\n",
      "Factorial of  6 equals  720\n",
      "Factorial of  7 equals  5040\n",
      "Factorial of  8 equals  40320\n",
      "Factorial of  9 equals  362880\n",
      "Factorial of  10 equals  3628800\n"
     ]
    }
   ],
   "source": [
    "# Question 3\n",
    "\n",
    "list1 = [1, 2, 3, 4, 5, 6, 7, 8, 9, 10]\n",
    "for v in list1:\n",
    "    print(v)\n",
    "\n",
    "def factorial(v):     \n",
    "      return 1 if (v==1 or v==0) else v * factorial(v - 1)\n",
    "\n",
    "for v in list1:\n",
    "    print(\"Factorial of \",v,\"equals \",\n",
    "          factorial (v))"
   ]
  },
  {
   "cell_type": "markdown",
   "metadata": {},
   "source": [
    "4. Write a python function that takes a single parameter and calculates and returns the average (mean) of the values in the parameter (which you may assume is iterable).  Show that your function works by printing the result of calling the function on the list in the cell below."
   ]
  },
  {
   "cell_type": "code",
   "execution_count": 6,
   "metadata": {},
   "outputs": [
    {
     "name": "stdout",
     "output_type": "stream",
     "text": [
      "Mean of the list = 0\n"
     ]
    }
   ],
   "source": [
    "# Question 4\n",
    "\n",
    "from statistics import mean \n",
    "testlist = [1,-1,2,-2,3,-3,4,-4]\n",
    "ListMean = mean(testlist)\n",
    "\n",
    "print(\"Mean of the testlist =\", round(ListMean, 2))"
   ]
  },
  {
   "cell_type": "markdown",
   "metadata": {},
   "source": [
    "5. Using your mean function above, write a function that calculates the variance of the list of numbers (see https://en.wikipedia.org/wiki/Variance for more information on the formula). In short:\n",
    "* subtract the mean of the elements in the list from every element in the list; store these values in a new list\n",
    "* square every element in the new list and sum the elements together\n",
    "* divide the resulting number by N (where N is the length of the original list)\n",
    "\n",
    "Show the result of calling your function in the lists in the code cell. You must use one or more list comprehensions or map/filter in your code.\n"
   ]
  },
  {
   "cell_type": "code",
   "execution_count": 9,
   "metadata": {},
   "outputs": [
    {
     "name": "stdout",
     "output_type": "stream",
     "text": [
      "The variance of list1 is : 1.13973309\n",
      "The variance of list2 is : 0.9257232841\n"
     ]
    }
   ],
   "source": [
    "# Question 5\n",
    "\n",
    "list1 = [ 5.670e-1, -1.480e+0, -5.570e-1, -1.470e+0, 7.340e-1, 1.050e+0, 4.480e-1, 2.570e-1, -1.970e+0, -1.460e+0]\n",
    "list2 = [-1.780e+0, 2.640e-1, 1.160e+0, 9.080e-1, 1.780e+0, 1.080e+0, 1.050e+0, -4.630e-2, 1.520e+0, 5.350e-1]\n",
    "# the variances of both lists should be relatively close to 1 (off by less than .15)\n",
    "\n",
    "mean1 = sum(list1) / len(list1)\n",
    "var1 = sum((i - mean1) ** 2 for i in list1) / len(list1)\n",
    "\n",
    "mean2 = sum(list2) / len(list2)\n",
    "var2 = sum((i - mean2) ** 2 for i in list2) / len(list2)\n",
    " \n",
    "# printing result\n",
    "print(\"The variance of list1 is : \" + str(var1))\n",
    "# printing result\n",
    "print(\"The variance of list2 is : \" + str(var2))"
   ]
  },
  {
   "cell_type": "markdown",
   "metadata": {},
   "source": [
    "6. Create a list with at least 15 elements in it. Use list slicing to print the following:\n",
    "* The first 5 elements of the list\n",
    "* The last 5 elements of the list\n",
    "* The list reversed (hint, show the entire list with a stride of -1)\n",
    "* Every second element in the list\n",
    "* Every third element in the list (stride of 3)"
   ]
  },
  {
   "cell_type": "code",
   "execution_count": 20,
   "metadata": {},
   "outputs": [
    {
     "name": "stdout",
     "output_type": "stream",
     "text": [
      "The first five elements of the list are :  [1, 2, 3, 4, 5]\n",
      "The last five elements of the list are : [16, 17, 18, 19, 20]\n",
      "The list reversed :  [20, 19, 18, 17, 16, 15, 14, 13, 12, 11, 10, 9, 8, 7, 6, 5, 4, 3, 2, 1]\n",
      "Every second element of the list :  [2, 4, 6, 8, 10, 12, 14, 16, 18, 20]\n",
      "Every third element of the list :  [3, 6, 9, 12, 15, 18]\n"
     ]
    }
   ],
   "source": [
    "# Question 6\n",
    "\n",
    "list = [1, 2, 3, 4, 5, 6, 7, 8, 9, 10, 11, 12, 13, 14, 15, 16, 17, 18, 19, 20]\n",
    "\n",
    "# Display First 5 Elements\n",
    "print(\"The first five elements of the list are : \", list[0:5])\n",
    "\n",
    "# Display Last 5 Elements\n",
    "N = 5\n",
    "Last5 = list[-N:]\n",
    "print(\"The last five elements of the list are : \" + str(Last5))\n",
    "\n",
    "# Display List Reversed\n",
    "print(\"The list reversed : \", list[::-1])\n",
    "\n",
    "# Display Every Second Element\n",
    "print(\"Every second element of the list : \", list[1::2])\n",
    "\n",
    "# Display Every Third Element\n",
    "print(\"Every third element of the list : \", list[2::3])"
   ]
  },
  {
   "cell_type": "markdown",
   "metadata": {},
   "source": [
    "7. Build a dictionary that contains the following information about this class (with appropriate names as keys):\n",
    "* The name\n",
    "* The course number\n",
    "* The semester/term in which you are taking this course\n",
    "* The number of credit hours this course counts for\n",
    "* A list of the course learning objectives\n",
    "\n",
    "The majority of this information can be found in the syllabus. Print the dictionary."
   ]
  },
  {
   "cell_type": "code",
   "execution_count": 50,
   "metadata": {},
   "outputs": [
    {
     "name": "stdout",
     "output_type": "stream",
     "text": [
      "The original dictionary is : {'NAME': 'Web Mining & Applied Natural Language Processing', 'COURSE NUMBER': '44-620', 'SEMESTER/TERM': 'Summer 2023 - Block 2', 'CREDIT HOURS': '3', 'LEARNING OBJECTIVES': {'L01': 'Manage Python libraries and packages', 'L02': 'Interact with Hosted Version Control Systems (e.g. Git and GitHub)', 'L03': 'Programmatically obtain and transform data from web-based APIs and HTML pages into a usable form.', 'L04': 'Describe the steps in a basic Natural Language Processing Pipeline', 'L05': 'Use preexisting tools and software libraries to perform some Natural Language Processing, such as sentiment analysis.', 'L06': 'Explain results and conclusions drawn from the visualized information.'}}\n",
      "\n",
      "\n",
      "The original dictionary by indented section : \n",
      "\n",
      "{\n",
      "    \"NAME\": \"Web Mining & Applied Natural Language Processing\",\n",
      "    \"COURSE NUMBER\": \"44-620\",\n",
      "    \"SEMESTER/TERM\": \"Summer 2023 - Block 2\",\n",
      "    \"CREDIT HOURS\": \"3\",\n",
      "    \"LEARNING OBJECTIVES\": {\n",
      "        \"L01\": \"Manage Python libraries and packages\",\n",
      "        \"L02\": \"Interact with Hosted Version Control Systems (e.g. Git and GitHub)\",\n",
      "        \"L03\": \"Programmatically obtain and transform data from web-based APIs and HTML pages into a usable form.\",\n",
      "        \"L04\": \"Describe the steps in a basic Natural Language Processing Pipeline\",\n",
      "        \"L05\": \"Use preexisting tools and software libraries to perform some Natural Language Processing, such as sentiment analysis.\",\n",
      "        \"L06\": \"Explain results and conclusions drawn from the visualized information.\"\n",
      "    }\n",
      "}\n"
     ]
    }
   ],
   "source": [
    "# Question 7\n",
    "\n",
    "our_class = {'NAME': 'Web Mining & Applied Natural Language Processing',\n",
    "                   'COURSE NUMBER': '44-620','SEMESTER/TERM' : 'Summer 2023 - Block 2', 'CREDIT HOURS' : '3',\n",
    "                   'LEARNING OBJECTIVES': {'L01': 'Manage Python libraries and packages',\n",
    "                                           'L02': 'Interact with Hosted Version Control Systems (e.g. Git and GitHub)',\n",
    "                                           'L03': 'Programmatically obtain and transform data from web-based APIs and HTML pages into a usable form.',\n",
    "                                           'L04': 'Describe the steps in a basic Natural Language Processing Pipeline', \n",
    "                                           'L05': 'Use preexisting tools and software libraries to perform some Natural Language Processing, such as sentiment analysis.', \n",
    "                                           'L06': 'Explain results and conclusions drawn from the visualized information.'}\n",
    "            }\n",
    "\n",
    "print(\"The original dictionary is : \" + str(our_class))\n",
    "print()\n",
    "print()\n",
    "print(\"The original dictionary by indented section : \")\n",
    "print()\n",
    "import json\n",
    "print(json.dumps(our_class, indent=4))"
   ]
  },
  {
   "cell_type": "markdown",
   "metadata": {},
   "source": [
    "8.  Given the dictionary defined in the code cell below, print the list of level 3 spells the character has."
   ]
  },
  {
   "cell_type": "code",
   "execution_count": 33,
   "metadata": {},
   "outputs": [
    {
     "name": "stdout",
     "output_type": "stream",
     "text": [
      "Level 3 spells the character has are:  ['Mass Healing Word', 'Nondetection', 'Revivify', 'Feign Death', 'Speak with Dead']\n"
     ]
    }
   ],
   "source": [
    "# Question 8\n",
    "\n",
    "player_character = {'name': 'Kitab',\n",
    "                   'class': [('Cleric: Knowledge', 7)],\n",
    "                   'spells': {'cantrip': ['Guidance', 'Light', 'Thaumaturgy', 'Toll the Dead', 'Word of Radiance'],\n",
    "                             'level 1': ['Command', 'Detect Magic', 'Healing Word', 'Identify', 'Sleep'],\n",
    "                             'level 2': ['Augury', 'Calm Emotions', 'Command', 'Invisibility', 'Lesser Restoration'],\n",
    "                             'level 3': ['Mass Healing Word', 'Nondetection', 'Revivify', 'Feign Death', 'Speak with Dead'],\n",
    "                             'level 4': ['Banishment', 'Confusion']}\n",
    "                   }\n",
    "print(\"Level 3 spells the character has are: \", player_character['spells']['level 3'])"
   ]
  },
  {
   "cell_type": "markdown",
   "metadata": {},
   "source": [
    "9. Write code to determine the number of unique elements in the list below.  You MUST use a set in finding your solution.  Print the number of unique values in the list with an appropriate label."
   ]
  },
  {
   "cell_type": "code",
   "execution_count": 27,
   "metadata": {},
   "outputs": [
    {
     "name": "stdout",
     "output_type": "stream",
     "text": [
      "The unique items in the value list are :  {0, 1, 5, 6, 7, 8, 9, 10, 11, 12, 13, 15}\n",
      "The number of unique items in the value list is :  12\n"
     ]
    }
   ],
   "source": [
    "# Question 9\n",
    "\n",
    "values = [10, 11, 10, 8, 1, 12, 0, 1, 6, 5, 5, 13, 6, 15, 0, 0, 1, 1, 9, 7]\n",
    "set_values = set(values)\n",
    "print(\"The unique items in the value list are : \", set_values)\n",
    "print(\"The number of unique items in the value list is : \", len(set_values))"
   ]
  },
  {
   "cell_type": "markdown",
   "metadata": {},
   "source": [
    "10. Create a new Jupyter Notebook (the name of the notebook should be your S number). Add a Markdown cell that contains your name. Add a Code cell and write Python that uses loops to draw the following pattern:\n",
    "\n",
    "```\n",
    "*      *\n",
    "**    **\n",
    "***  ***\n",
    "********\n",
    "```\n",
    "Make sure to add and submit both the new notebook and the changes to this notebook for this assignment."
   ]
  },
  {
   "cell_type": "code",
   "execution_count": 1,
   "metadata": {},
   "outputs": [
    {
     "name": "stderr",
     "output_type": "stream",
     "text": [
      "[NbConvertApp] WARNING | Config option `kernel_spec_manager_class` not recognized by `NbConvertApp`.\n",
      "[NbConvertApp] Converting notebook python-ds.ipynb to html\n",
      "[NbConvertApp] Writing 611410 bytes to python-ds.html\n"
     ]
    }
   ],
   "source": [
    "!jupyter nbconvert --to html python-ds.ipynb"
   ]
  }
 ],
 "metadata": {
  "kernelspec": {
   "display_name": "Python 3 (ipykernel)",
   "language": "python",
   "name": "python3"
  },
  "language_info": {
   "codemirror_mode": {
    "name": "ipython",
    "version": 3
   },
   "file_extension": ".py",
   "mimetype": "text/x-python",
   "name": "python",
   "nbconvert_exporter": "python",
   "pygments_lexer": "ipython3",
   "version": "3.9.16"
  }
 },
 "nbformat": 4,
 "nbformat_minor": 4
}
